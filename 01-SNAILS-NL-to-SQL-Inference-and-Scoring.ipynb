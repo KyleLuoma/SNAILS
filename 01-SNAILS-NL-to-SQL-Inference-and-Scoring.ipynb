{
 "cells": [
  {
   "attachments": {},
   "cell_type": "markdown",
   "metadata": {},
   "source": [
    "## End-to-End NL-to-SQL Inference and Evaluation\n",
    "The intent of this notebook is to demonstrate the end-to-end process for reproducing the data collection, synthesis, evaluation, and consolidation required to formulate a dataset on which to run statistical experiments evaluating the relationship between schema identifier naturalness and NL-to-SQL model performance.\n",
    "\n",
    "This notebook is one of two notebooks created for this purpose. The second notebook is end-to-end-prototype-analysis.ipynb"
   ]
  },
  {
   "cell_type": "markdown",
   "metadata": {},
   "source": [
    "Copyright 2024 Kyle Luoma\n",
    "\n",
    "Licensed under the Apache License, Version 2.0 (the \"License\");\n",
    "you may not use this file except in compliance with the License.\n",
    "You may obtain a copy of the License at\n",
    "\n",
    "    http://www.apache.org/licenses/LICENSE-2.0\n",
    "\n",
    "Unless required by applicable law or agreed to in writing, software\n",
    "distributed under the License is distributed on an \"AS IS\" BASIS,\n",
    "WITHOUT WARRANTIES OR CONDITIONS OF ANY KIND, either express or implied.\n",
    "See the License for the specific language governing permissions and\n",
    "limitations under the License."
   ]
  },
  {
   "cell_type": "markdown",
   "metadata": {},
   "source": [
    "#### Prerequisites\n",
    "Before running this notebook you must install the SNAILS databases using the instructions in the project README.\n",
    "You must also ensure the LLM service config .json files are created and stored in the ```.local``` folder."
   ]
  },
  {
   "attachments": {},
   "cell_type": "markdown",
   "metadata": {},
   "source": [
    "#### Imports"
   ]
  },
  {
   "cell_type": "code",
   "execution_count": null,
   "metadata": {},
   "outputs": [],
   "source": [
    "from src import end_to_end_data_prep_and_prediction as pred\n",
    "from itertools import product"
   ]
  },
  {
   "cell_type": "markdown",
   "metadata": {},
   "source": [
    "#### Database and model selections\n",
    "Comment or uncomment the databases and models in the dictionaries prior to running the main function in the next cell"
   ]
  },
  {
   "cell_type": "code",
   "execution_count": null,
   "metadata": {},
   "outputs": [],
   "source": [
    "selected_spider_databases = [(\"spider\", db) for db in [\n",
    "        'battle_death',\n",
    "        'car_1',\n",
    "        'concert_singer',\n",
    "        'course_teach',\n",
    "        'cre_Doc_Template_Mgt',\n",
    "        'dog_kennels',\n",
    "        'employee_hire_evaluation',\n",
    "        'flight_2',\n",
    "        'museum_visit',\n",
    "        'network_1',\n",
    "        'orchestra',\n",
    "        'pets_1',\n",
    "        'poker_player',\n",
    "        'real_estate_properties',\n",
    "        'singer',\n",
    "        'student_transcripts_tracking',\n",
    "        'tvshow',\n",
    "        'voter_1',\n",
    "        'world_1',\n",
    "        'wta_1'\n",
    "        ]]\n",
    "\n",
    "selected_snails_databases = [(\"snails\", db) for db in [\n",
    "        \"ASIS_20161108_HerpInv_Database\",\n",
    "        \"ATBI\",\n",
    "        \"CratersWildlifeObservations\",\n",
    "        \"KlamathInvasiveSpecies\",\n",
    "        \"NorthernPlainsFireManagement\",\n",
    "        \"NTSB\",\n",
    "        \"NYSED_SRC2022\",\n",
    "        \"PacificIslandLandbirds\",\n",
    "        \"SBODemoUS-Banking\",\n",
    "        \"SBODemoUS-Business Partners\",\n",
    "        \"SBODemoUS-Finance\",\n",
    "        \"SBODemoUS-General\",\n",
    "        \"SBODemoUS-Human Resources\",\n",
    "        \"SBODemoUS-Inventory and Production\",\n",
    "        \"SBODemoUS-Reports\",\n",
    "        \"SBODemoUS-Sales Opportunities\",\n",
    "        \"SBODemoUS-Service\"\n",
    "        ]]\n",
    "\n",
    "selected_models = [\n",
    "        \"gpt-4o\", \n",
    "        \"gpt-3.5-turbo\",\n",
    "        \"DINSQL\",\n",
    "        \"CodeS\",\n",
    "        # \"Phind-CodeLlama-34B-v2\" #Use only with bypass_nl_sql_inference=True in main call below\n",
    "        ]\n",
    "\n",
    "selected_naturalness = [\n",
    "        \"NATIVE\", \n",
    "        \"N1\", \n",
    "        \"N2\", \n",
    "        \"N3\"\n",
    "        ]"
   ]
  },
  {
   "cell_type": "markdown",
   "metadata": {},
   "source": [
    "#### Run the Main function in pred\n",
    "\n",
    "Running this as main with the above combinations of benchmark, database, model, and naturalness level\n",
    "    reproduces the NL-to-SQL annotations used in our analysis.\n",
    "    NOTE: Unfortunately, the Phind-CodeLlama model cited in our paper is no longer available on TogetherAI,\n",
    "    so we cannot offer a simple reproducibility solution here. SQL inference output from this model is\n",
    "    available in the ./queries/predicted directory.\n",
    "\n",
    "##### Outputs\n",
    "- Queries predicted by LLMs are stored in: ./db/queries/predicted \n",
    "- Excel files containing the analysis results are stored in: ./data/nl-to-sql_performance_annotations/pending_evaluation\n",
    "- Individual query generation logs can be found in ./logs\n",
    "\n",
    "##### Next Steps\n",
    "Once NL-to-SQL inference and follow-on evaluations are complete, run \n",
    "```python\n",
    "python ./src/query_manual_evaluation.py\n",
    "```\n",
    "to perform manual evaluation of the results files.\n",
    "Load the files from the /pending_evaluation folder and once you have manually scored the results, save them to ./data/nl-to-sql_performance_annotations\n",
    "\n",
    "After manual validation, you can generate the results analysis as they appear in our report using the `reproducibility-SNAILS-NL-to-SQL-naturalness-analysis.ipynb` notebook."
   ]
  },
  {
   "cell_type": "code",
   "execution_count": null,
   "metadata": {},
   "outputs": [],
   "source": [
    "for combo in product(\n",
    "    # selected_spider_databases +\n",
    "    selected_snails_databases,\n",
    "    selected_models,\n",
    "    selected_naturalness\n",
    "):\n",
    "    pred.main(\n",
    "        model=combo[1],\n",
    "        service=\"openai\",\n",
    "        naturalness=combo[2],\n",
    "        database=combo[0][1],\n",
    "        bypass_nl_sql_inference=True, # set to True if you don't want to run LLM NL-to-SQL and only want to run the additional evaluation steps\n",
    "        db_list_file={\n",
    "            \"spider\": \".local/spider_dbinfo.json\",\n",
    "            \"snails\": \".local/dbinfo.json\"\n",
    "            }[combo[0][0]]\n",
    "    )"
   ]
  }
 ],
 "metadata": {
  "kernelspec": {
   "display_name": "venv",
   "language": "python",
   "name": "python3"
  },
  "language_info": {
   "codemirror_mode": {
    "name": "ipython",
    "version": 3
   },
   "file_extension": ".py",
   "mimetype": "text/x-python",
   "name": "python",
   "nbconvert_exporter": "python",
   "pygments_lexer": "ipython3",
   "version": "3.12.4"
  },
  "orig_nbformat": 4
 },
 "nbformat": 4,
 "nbformat_minor": 2
}
